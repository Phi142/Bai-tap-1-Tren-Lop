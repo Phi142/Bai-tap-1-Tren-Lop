{
  "nbformat": 4,
  "nbformat_minor": 0,
  "metadata": {
    "colab": {
      "provenance": [],
      "authorship_tag": "ABX9TyPoFjTbvkHDbIYPQqAn1DU9",
      "include_colab_link": true
    },
    "kernelspec": {
      "name": "python3",
      "display_name": "Python 3"
    },
    "language_info": {
      "name": "python"
    }
  },
  "cells": [
    {
      "cell_type": "markdown",
      "metadata": {
        "id": "view-in-github",
        "colab_type": "text"
      },
      "source": [
        "<a href=\"https://colab.research.google.com/github/Phi142/Bai-tap-1-Tren-Lop/blob/main/tuan08.ipynb\" target=\"_parent\"><img src=\"https://colab.research.google.com/assets/colab-badge.svg\" alt=\"Open In Colab\"/></a>"
      ]
    },
    {
      "cell_type": "code",
      "execution_count": null,
      "metadata": {
        "colab": {
          "base_uri": "https://localhost:8080/"
        },
        "id": "NUG5ePXwlK2Z",
        "outputId": "7eee73cb-0643-46f6-a951-3b03aa30e297"
      },
      "outputs": [
        {
          "output_type": "stream",
          "name": "stdout",
          "text": [
            "Looking in indexes: https://pypi.org/simple, https://us-python.pkg.dev/colab-wheels/public/simple/\n",
            "Collecting Perception\n",
            "  Downloading perception-0.6.6-cp39-cp39-manylinux_2_12_x86_64.manylinux2010_x86_64.whl (2.1 MB)\n",
            "\u001b[2K     \u001b[90m━━━━━━━━━━━━━━━━━━━━━━━━━━━━━━━━━━━━━━━━\u001b[0m \u001b[32m2.1/2.1 MB\u001b[0m \u001b[31m6.2 MB/s\u001b[0m eta \u001b[36m0:00:00\u001b[0m\n",
            "\u001b[?25hRequirement already satisfied: scipy in /usr/local/lib/python3.9/dist-packages (from Perception) (1.10.1)\n",
            "Requirement already satisfied: pywavelets in /usr/local/lib/python3.9/dist-packages (from Perception) (1.4.1)\n",
            "Requirement already satisfied: numpy in /usr/local/lib/python3.9/dist-packages (from Perception) (1.22.4)\n",
            "Collecting validators>=0.12.4\n",
            "  Downloading validators-0.20.0.tar.gz (30 kB)\n",
            "  Preparing metadata (setup.py) ... \u001b[?25l\u001b[?25hdone\n",
            "Requirement already satisfied: decorator>=3.4.0 in /usr/local/lib/python3.9/dist-packages (from validators>=0.12.4->Perception) (4.4.2)\n",
            "Building wheels for collected packages: validators\n",
            "  Building wheel for validators (setup.py) ... \u001b[?25l\u001b[?25hdone\n",
            "  Created wheel for validators: filename=validators-0.20.0-py3-none-any.whl size=19579 sha256=ee61ee337f90d6b0ddb8530a1d446956810b0d9fab67219dc9e33ae953eb2890\n",
            "  Stored in directory: /root/.cache/pip/wheels/2d/f0/a8/1094fca7a7e5d0d12ff56e0c64675d72aa5cc81a5fc200e849\n",
            "Successfully built validators\n",
            "Installing collected packages: validators, Perception\n",
            "Successfully installed Perception-0.6.6 validators-0.20.0\n"
          ]
        }
      ],
      "source": [
        "!pip install Perception\n"
      ]
    },
    {
      "cell_type": "code",
      "source": [
        "from sklearn.linear_model import Perceptron\n",
        "from sklearn import datasets\n",
        "from sklearn.model_selection import train_test_split\n",
        "from sklearn.metrics import accuracy_score\n",
        "from sklearn.preprocessing import StandardScaler"
      ],
      "metadata": {
        "id": "svQL-pxprjAk"
      },
      "execution_count": null,
      "outputs": []
    },
    {
      "cell_type": "markdown",
      "source": [
        "Making \"NOT\" gate"
      ],
      "metadata": {
        "id": "_1QI3H0Rt-tE"
      }
    },
    {
      "cell_type": "code",
      "source": [
        "x = [[0,0],[0,1],[1,0],[1,1]]\n",
        "t = [0,1,1,1]\n",
        "model = Perceptron()\n",
        "model.fit(x, t)\n",
        "model.score(x, t)"
      ],
      "metadata": {
        "id": "dm2W9J4ftVTT"
      },
      "execution_count": null,
      "outputs": []
    },
    {
      "cell_type": "code",
      "source": [
        "x1 = [[0.5, 1],[0.5, 0.5],[-10, 1]]\n",
        "y1 = model.predict(x1)\n",
        "print(y1)\n",
        "model.score(x1, y1)"
      ],
      "metadata": {
        "colab": {
          "base_uri": "https://localhost:8080/"
        },
        "id": "AUXc8kXUthhN",
        "outputId": "d1cac206-87c0-40ba-e24b-2f12a0bfb50e"
      },
      "execution_count": null,
      "outputs": [
        {
          "output_type": "stream",
          "name": "stdout",
          "text": [
            "[0 0 1]\n"
          ]
        },
        {
          "output_type": "execute_result",
          "data": {
            "text/plain": [
              "1.0"
            ]
          },
          "metadata": {},
          "execution_count": 17
        }
      ]
    },
    {
      "cell_type": "markdown",
      "source": [
        "Another Test"
      ],
      "metadata": {
        "id": "z_g5iVG-vmXy"
      }
    },
    {
      "cell_type": "code",
      "source": [
        "x = [[-0.5,-0.5],[-0.5,0.5],[0.5,0.5],[-0.5,1]]\n",
        "t = [1,1,0,0]\n",
        "model = Perceptron()\n",
        "model.fit(x, t)\n",
        "model.score(x, t)"
      ],
      "metadata": {
        "id": "A0kG6VNxuO9F"
      },
      "execution_count": null,
      "outputs": []
    },
    {
      "cell_type": "code",
      "source": [
        "x1 = [[-0.5, -2],[-5, 7],[-10, 99999]]\n",
        "y1 = model.predict(x1)\n",
        "print(y1)\n",
        "model.score(x1, y1)"
      ],
      "metadata": {
        "colab": {
          "base_uri": "https://localhost:8080/"
        },
        "id": "GQ8zBK-RvDPV",
        "outputId": "52aecf5f-06fc-4659-be30-ee6aa831fa50"
      },
      "execution_count": null,
      "outputs": [
        {
          "output_type": "stream",
          "name": "stdout",
          "text": [
            "[1 0 0]\n"
          ]
        },
        {
          "output_type": "execute_result",
          "data": {
            "text/plain": [
              "1.0"
            ]
          },
          "metadata": {},
          "execution_count": 20
        }
      ]
    },
    {
      "cell_type": "markdown",
      "source": [
        "One hot Encoding"
      ],
      "metadata": {
        "id": "cKK-D6WFxUnb"
      }
    },
    {
      "cell_type": "code",
      "source": [
        "from sklearn.linear_model import Perceptron\n",
        "from sklearn import datasets\n",
        "import pandas as pd\n",
        "from sklearn.model_selection import train_test_split\n",
        "from sklearn.metrics import accuracy_score\n",
        "from sklearn.preprocessing import StandardScaler\n",
        "from numpy.core.fromnumeric import shape\n",
        "\n",
        "iris = datasets.load_iris()\n",
        "shape(iris)\n",
        "print(iris)"
      ],
      "metadata": {
        "id": "nMG4Tf2f0JRq"
      },
      "execution_count": null,
      "outputs": []
    },
    {
      "cell_type": "code",
      "source": [
        "x = iris.data\n",
        "y = iris.target\n",
        "print(x[:5])\n",
        "print(y[:5])"
      ],
      "metadata": {
        "colab": {
          "base_uri": "https://localhost:8080/"
        },
        "id": "EJMpjIty6C3h",
        "outputId": "416e19c2-767c-4dee-bd6d-d240aec593e8"
      },
      "execution_count": null,
      "outputs": [
        {
          "output_type": "stream",
          "name": "stdout",
          "text": [
            "[[5.1 3.5 1.4 0.2]\n",
            " [4.9 3.  1.4 0.2]\n",
            " [4.7 3.2 1.3 0.2]\n",
            " [4.6 3.1 1.5 0.2]\n",
            " [5.  3.6 1.4 0.2]]\n",
            "[0 0 0 0 0]\n"
          ]
        }
      ]
    },
    {
      "cell_type": "code",
      "source": [
        "x_train,x_test,y_train,y_test = train_test_split(x,y,test_size = 0.3)\n",
        "sc = StandardScaler()\n",
        "sc.fit(x_train)\n",
        "x_train_std = sc.transform(x_train)\n",
        "x_test_std = sc.transform(x_test)\n",
        "model = Perceptron(max_iter = 50, eta0 = 0.1, random_state = 0)  #toc do hoc la so duong nho hon 1\n",
        "model.fit(x_train_std, y_train)  #so lan hoc\n",
        "y_pred = model.predict(x_test_std)\n",
        "print(y_pred)\n",
        "print(y_test)\n",
        "print(\"Độ chính xác của mô hình: \", accuracy_score(y_test, y_pred))"
      ],
      "metadata": {
        "colab": {
          "base_uri": "https://localhost:8080/"
        },
        "id": "dPC4vH-C5ftn",
        "outputId": "bd392c0f-550d-4f13-fa05-a78f3e360643"
      },
      "execution_count": null,
      "outputs": [
        {
          "output_type": "stream",
          "name": "stdout",
          "text": [
            "[1 0 0 2 0 1 1 2 1 1 0 1 2 1 2 2 2 1 2 2 1 0 2 1 1 0 0 2 0 0 2 2 2 0 1 1 1\n",
            " 0 0 2 2 2 0 2 1]\n",
            "[1 0 0 1 0 1 1 2 1 1 0 1 2 1 2 2 2 0 2 2 1 0 2 1 1 1 0 2 0 1 2 2 2 0 1 1 1\n",
            " 0 0 2 2 2 0 2 1]\n",
            "Độ chính xác của mô hình:  0.9111111111111111\n"
          ]
        }
      ]
    },
    {
      "cell_type": "code",
      "source": [
        "data = pd.read_csv('crabs.csv')\n",
        "print(data.head())\n",
        "print(data.shape)\n",
        "\n",
        "data.drop(data.index[100:200],axis=0, inplace=True)\n",
        "data.shape\n",
        "\n",
        "data.replace(to_replace=\"M\",value=0, inplace=True)\n",
        "data.replace(to_replace=\"F\",value=1, inplace=True)\n",
        "data.head()\n",
        "\n",
        "data.drop(data.columns[[0,2]], axis=1, inplace=True)\n",
        "data.head()\n",
        "\n",
        "X = data[['fontallip', 'rearwidth', 'length', 'width', 'depth']].to_numpy()\n",
        "y = data['sex'].to_numpy()\n",
        "#print(X)\n",
        "#print(y)\n",
        "X_train, X_test, y_train, y_test = train_test_split(X, y, test_size=0.3)\n",
        "sc = StandardScaler()\n",
        "sc.fit(X_train)\n",
        "X_train_std = sc.transform(X_train)\n",
        "X_test_std = sc.transform(X_test)\n",
        "\n",
        "model = Perceptron(max_iter=40, eta0=0.1, random_state=0) #max_iter: số lần học, eta0: tốc độ học (càng lớn, sai số càng nhiều)\n",
        "model.fit(X_train_std,y_train)\n",
        "y_pred = model.predict(X_test_std)\n",
        "print(y_pred)\n",
        "print(\"Do chinh xac cua mo hinh: \", accuracy_score(y_test,y_pred))"
      ],
      "metadata": {
        "colab": {
          "base_uri": "https://localhost:8080/"
        },
        "id": "H2FGTCbH6cT_",
        "outputId": "ab86fd8b-4aba-4176-ff94-668e96c125a7"
      },
      "execution_count": null,
      "outputs": [
        {
          "output_type": "stream",
          "name": "stdout",
          "text": [
            "  speies sex  index  fontallip  rearwidth  length  width  depth\n",
            "0      B   M      1        8.1        6.7    16.1   19.0    7.0\n",
            "1      B   M      2        8.8        7.7    18.1   20.8    7.4\n",
            "2      B   M      3        9.2        7.8    19.0   22.4    7.7\n",
            "3      B   M      4        9.6        7.9    20.1   23.1    8.2\n",
            "4      B   M      5        9.8        8.0    20.3   23.0    8.2\n",
            "(200, 8)\n",
            "[0 0 1 0 1 1 0 0 0 0 1 0 1 1 1 0 0 0 1 0 0 1 1 0 0 1 0 1 0 1]\n",
            "Do chinh xac cua mo hinh:  0.8666666666666667\n"
          ]
        }
      ]
    },
    {
      "cell_type": "code",
      "source": [],
      "metadata": {
        "id": "KZBkBvUG_Mdy"
      },
      "execution_count": null,
      "outputs": []
    }
  ]
}