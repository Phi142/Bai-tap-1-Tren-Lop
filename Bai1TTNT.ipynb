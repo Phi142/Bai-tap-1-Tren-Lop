{
  "nbformat": 4,
  "nbformat_minor": 0,
  "metadata": {
    "colab": {
      "provenance": [],
      "authorship_tag": "ABX9TyP6LQD1wXYSIiuZEh9/DQiL",
      "include_colab_link": true
    },
    "kernelspec": {
      "name": "python3",
      "display_name": "Python 3"
    },
    "language_info": {
      "name": "python"
    }
  },
  "cells": [
    {
      "cell_type": "markdown",
      "metadata": {
        "id": "view-in-github",
        "colab_type": "text"
      },
      "source": [
        "<a href=\"https://colab.research.google.com/github/Phi142/Bai-tap-1-Tren-Lop/blob/main/Bai1TTNT.ipynb\" target=\"_parent\"><img src=\"https://colab.research.google.com/assets/colab-badge.svg\" alt=\"Open In Colab\"/></a>"
      ]
    },
    {
      "cell_type": "code",
      "execution_count": null,
      "metadata": {
        "id": "41JUf4i9VJvu"
      },
      "outputs": [],
      "source": [
        "\n",
        "with open('text.txt', mode='w') as accounts:\n",
        "  accounts.write('20146515 Tran Minh Phi 8\\n') \n",
        "  accounts.write('20146423 Nguyen Quoc Tien 9\\n') \n",
        "  accounts.write('20146129 Chiu Sang Hung 10\\n') "
      ]
    },
    {
      "cell_type": "code",
      "source": [
        "with open('text1.txt', mode='w') as accounts:\n",
        "  print('Tiennn Phiiii',file = accounts)"
      ],
      "metadata": {
        "id": "h5n5M8g5Y2fB"
      },
      "execution_count": null,
      "outputs": []
    },
    {
      "cell_type": "code",
      "source": [
        "value1 = int(input('nhap so thu nhat: '))\n",
        "value2 = int(input('nhap so thu nhat: '))\n",
        "value1 + value2"
      ],
      "metadata": {
        "id": "iQPyknGWYZLF"
      },
      "execution_count": null,
      "outputs": []
    },
    {
      "cell_type": "code",
      "source": [
        "with open('text1.txt', mode='r') as accounts:\n",
        "  print(f\"{'Mssv':<10}{'Name':<20}{'Score':>2}\")\n",
        "  for record in accounts:\n",
        "    Mssv,Name,Score = record.split()\n",
        "    print(f'{Mssv:<10}{Name:<20}{Score:>2}')\n",
        "\n"
      ],
      "metadata": {
        "id": "zlAVoAIOYugN"
      },
      "execution_count": null,
      "outputs": []
    },
    {
      "cell_type": "code",
      "source": [
        "import pandas as pd\n",
        "url = 'data.csv'\n",
        "dataframe = pd.read_csv(url)\n",
        "dataframe.head(21)\n",
        "\n",
        "dataframe.iloc[:10]"
      ],
      "metadata": {
        "id": "v8avKA-me9tV"
      },
      "execution_count": null,
      "outputs": []
    },
    {
      "cell_type": "code",
      "source": [
        "import pandas as pd\n",
        "url = 'data.csv'\n",
        "dataframe = pd.read_csv(url)\n",
        "dataframe.head(21)\n",
        "\n",
        "dataframe = dataframe.set_index(dataframe['Name']) \n",
        "dataframe.loc['Tran Minh Phi']"
      ],
      "metadata": {
        "id": "rftqV5a3hhy2"
      },
      "execution_count": null,
      "outputs": []
    },
    {
      "cell_type": "code",
      "source": [
        "import pandas as pd\n",
        "url = 'data.csv'\n",
        "dataframe = pd.read_csv(url)\n",
        "dataframe.head(21)\n",
        "\n",
        "dataframe[dataframe['Khoa'] == 'Co khi may'].head(10)"
      ],
      "metadata": {
        "id": "0ii0IIE6inpG",
        "colab": {
          "base_uri": "https://localhost:8080/",
          "height": 175
        },
        "outputId": "a3946972-c3c4-416d-f6cf-1e84b80057dd"
      },
      "execution_count": 120,
      "outputs": [
        {
          "output_type": "execute_result",
          "data": {
            "text/plain": [
              "    No               Name      MSSV        Khoa  Score\n",
              "0    1      Tran Minh Phi  20146515  Co khi may      8\n",
              "6    7       Le Van Quang  18028932  Co khi may      7\n",
              "11  12      Quang Tan Loc  19033992  Co khi may      7\n",
              "15  16  Nguyen Huynh Ngoc  22032939  Co khi may      4"
            ],
            "text/html": [
              "\n",
              "  <div id=\"df-b835da45-e644-47b3-aa55-94255eff638d\">\n",
              "    <div class=\"colab-df-container\">\n",
              "      <div>\n",
              "<style scoped>\n",
              "    .dataframe tbody tr th:only-of-type {\n",
              "        vertical-align: middle;\n",
              "    }\n",
              "\n",
              "    .dataframe tbody tr th {\n",
              "        vertical-align: top;\n",
              "    }\n",
              "\n",
              "    .dataframe thead th {\n",
              "        text-align: right;\n",
              "    }\n",
              "</style>\n",
              "<table border=\"1\" class=\"dataframe\">\n",
              "  <thead>\n",
              "    <tr style=\"text-align: right;\">\n",
              "      <th></th>\n",
              "      <th>No</th>\n",
              "      <th>Name</th>\n",
              "      <th>MSSV</th>\n",
              "      <th>Khoa</th>\n",
              "      <th>Score</th>\n",
              "    </tr>\n",
              "  </thead>\n",
              "  <tbody>\n",
              "    <tr>\n",
              "      <th>0</th>\n",
              "      <td>1</td>\n",
              "      <td>Tran Minh Phi</td>\n",
              "      <td>20146515</td>\n",
              "      <td>Co khi may</td>\n",
              "      <td>8</td>\n",
              "    </tr>\n",
              "    <tr>\n",
              "      <th>6</th>\n",
              "      <td>7</td>\n",
              "      <td>Le Van Quang</td>\n",
              "      <td>18028932</td>\n",
              "      <td>Co khi may</td>\n",
              "      <td>7</td>\n",
              "    </tr>\n",
              "    <tr>\n",
              "      <th>11</th>\n",
              "      <td>12</td>\n",
              "      <td>Quang Tan Loc</td>\n",
              "      <td>19033992</td>\n",
              "      <td>Co khi may</td>\n",
              "      <td>7</td>\n",
              "    </tr>\n",
              "    <tr>\n",
              "      <th>15</th>\n",
              "      <td>16</td>\n",
              "      <td>Nguyen Huynh Ngoc</td>\n",
              "      <td>22032939</td>\n",
              "      <td>Co khi may</td>\n",
              "      <td>4</td>\n",
              "    </tr>\n",
              "  </tbody>\n",
              "</table>\n",
              "</div>\n",
              "      <button class=\"colab-df-convert\" onclick=\"convertToInteractive('df-b835da45-e644-47b3-aa55-94255eff638d')\"\n",
              "              title=\"Convert this dataframe to an interactive table.\"\n",
              "              style=\"display:none;\">\n",
              "        \n",
              "  <svg xmlns=\"http://www.w3.org/2000/svg\" height=\"24px\"viewBox=\"0 0 24 24\"\n",
              "       width=\"24px\">\n",
              "    <path d=\"M0 0h24v24H0V0z\" fill=\"none\"/>\n",
              "    <path d=\"M18.56 5.44l.94 2.06.94-2.06 2.06-.94-2.06-.94-.94-2.06-.94 2.06-2.06.94zm-11 1L8.5 8.5l.94-2.06 2.06-.94-2.06-.94L8.5 2.5l-.94 2.06-2.06.94zm10 10l.94 2.06.94-2.06 2.06-.94-2.06-.94-.94-2.06-.94 2.06-2.06.94z\"/><path d=\"M17.41 7.96l-1.37-1.37c-.4-.4-.92-.59-1.43-.59-.52 0-1.04.2-1.43.59L10.3 9.45l-7.72 7.72c-.78.78-.78 2.05 0 2.83L4 21.41c.39.39.9.59 1.41.59.51 0 1.02-.2 1.41-.59l7.78-7.78 2.81-2.81c.8-.78.8-2.07 0-2.86zM5.41 20L4 18.59l7.72-7.72 1.47 1.35L5.41 20z\"/>\n",
              "  </svg>\n",
              "      </button>\n",
              "      \n",
              "  <style>\n",
              "    .colab-df-container {\n",
              "      display:flex;\n",
              "      flex-wrap:wrap;\n",
              "      gap: 12px;\n",
              "    }\n",
              "\n",
              "    .colab-df-convert {\n",
              "      background-color: #E8F0FE;\n",
              "      border: none;\n",
              "      border-radius: 50%;\n",
              "      cursor: pointer;\n",
              "      display: none;\n",
              "      fill: #1967D2;\n",
              "      height: 32px;\n",
              "      padding: 0 0 0 0;\n",
              "      width: 32px;\n",
              "    }\n",
              "\n",
              "    .colab-df-convert:hover {\n",
              "      background-color: #E2EBFA;\n",
              "      box-shadow: 0px 1px 2px rgba(60, 64, 67, 0.3), 0px 1px 3px 1px rgba(60, 64, 67, 0.15);\n",
              "      fill: #174EA6;\n",
              "    }\n",
              "\n",
              "    [theme=dark] .colab-df-convert {\n",
              "      background-color: #3B4455;\n",
              "      fill: #D2E3FC;\n",
              "    }\n",
              "\n",
              "    [theme=dark] .colab-df-convert:hover {\n",
              "      background-color: #434B5C;\n",
              "      box-shadow: 0px 1px 3px 1px rgba(0, 0, 0, 0.15);\n",
              "      filter: drop-shadow(0px 1px 2px rgba(0, 0, 0, 0.3));\n",
              "      fill: #FFFFFF;\n",
              "    }\n",
              "  </style>\n",
              "\n",
              "      <script>\n",
              "        const buttonEl =\n",
              "          document.querySelector('#df-b835da45-e644-47b3-aa55-94255eff638d button.colab-df-convert');\n",
              "        buttonEl.style.display =\n",
              "          google.colab.kernel.accessAllowed ? 'block' : 'none';\n",
              "\n",
              "        async function convertToInteractive(key) {\n",
              "          const element = document.querySelector('#df-b835da45-e644-47b3-aa55-94255eff638d');\n",
              "          const dataTable =\n",
              "            await google.colab.kernel.invokeFunction('convertToInteractive',\n",
              "                                                     [key], {});\n",
              "          if (!dataTable) return;\n",
              "\n",
              "          const docLinkHtml = 'Like what you see? Visit the ' +\n",
              "            '<a target=\"_blank\" href=https://colab.research.google.com/notebooks/data_table.ipynb>data table notebook</a>'\n",
              "            + ' to learn more about interactive tables.';\n",
              "          element.innerHTML = '';\n",
              "          dataTable['output_type'] = 'display_data';\n",
              "          await google.colab.output.renderOutput(dataTable, element);\n",
              "          const docLink = document.createElement('div');\n",
              "          docLink.innerHTML = docLinkHtml;\n",
              "          element.appendChild(docLink);\n",
              "        }\n",
              "      </script>\n",
              "    </div>\n",
              "  </div>\n",
              "  "
            ]
          },
          "metadata": {},
          "execution_count": 120
        }
      ]
    },
    {
      "cell_type": "code",
      "source": [
        "import pandas as pd\n",
        "url = 'data.csv'\n",
        "dataframe = pd.read_csv(url)\n",
        "dataframe.head(21)\n",
        "\n",
        "dataframe[(dataframe['Khoa'] == 'Co khi may')&(dataframe['Name'] == 'Tran Minh Phi')].head(10)"
      ],
      "metadata": {
        "id": "Dd5dxQLBjqjv"
      },
      "execution_count": null,
      "outputs": []
    },
    {
      "cell_type": "code",
      "source": [
        "import pandas as pd\n",
        "url = 'data.csv'\n",
        "dataframe = pd.read_csv(url)\n",
        "dataframe.head(21)\n",
        "\n",
        "dataframe[(dataframe['Khoa'] == 'Co khi may')|(dataframe['Name'] == 'Chiu Sang Hung')].head(10)"
      ],
      "metadata": {
        "id": "r6tN3WILldxt"
      },
      "execution_count": null,
      "outputs": []
    },
    {
      "cell_type": "code",
      "source": [
        "import pandas as pd\n",
        "url = 'data.csv'\n",
        "dataframe = pd.read_csv(url)\n",
        "dataframe.head(21)\n",
        "\n",
        "dataframe['Khoa'].replace('Co khi may','CKM').head(10)\n",
        "dataframe.replace('Co khi may','CKM').head(10)\n"
      ],
      "metadata": {
        "id": "YTHvHcJil3Fh"
      },
      "execution_count": null,
      "outputs": []
    },
    {
      "cell_type": "code",
      "source": [
        "import pandas as pd\n",
        "url = 'data.csv'\n",
        "dataframe = pd.read_csv(url)\n",
        "dataframe.head(21)\n",
        "\n",
        "print('Diem Cao Nhat: ',dataframe['Score'].max())\n",
        "print('Diem Thap Nhat: ',dataframe['Score'].min())\n",
        "print('Diem Trung Binh: ',dataframe['Score'].mean())\n",
        "print('Diem Tong: ',dataframe['Score'].sum())\n",
        "print('Tong So Nguoi: ',dataframe['Score'].count())"
      ],
      "metadata": {
        "id": "0x5zSW5Wmkql"
      },
      "execution_count": null,
      "outputs": []
    },
    {
      "cell_type": "code",
      "source": [
        "import pandas as pd\n",
        "url = 'data.csv'\n",
        "dataframe = pd.read_csv(url)\n",
        "dataframe.head(21)\n",
        "\n",
        "dataframe['Khoa'].unique()\n",
        "dataframe['Khoa'].value_counts()"
      ],
      "metadata": {
        "id": "pjAaXPi_nnO7"
      },
      "execution_count": null,
      "outputs": []
    },
    {
      "cell_type": "code",
      "source": [
        "import pandas as pd\n",
        "url = 'data.csv'\n",
        "dataframe = pd.read_csv(url)\n",
        "dataframe.head(21)\n",
        "\n",
        "dataframe.drop(['MSSV','Khoa'],axis = 1).head(10)"
      ],
      "metadata": {
        "id": "yVpVfqttn9jN"
      },
      "execution_count": null,
      "outputs": []
    },
    {
      "cell_type": "code",
      "source": [
        "import pandas as pd\n",
        "url = 'data.csv'\n",
        "dataframe = pd.read_csv(url)\n",
        "dataframe.head(21)\n",
        "\n",
        "dataframe.drop(dataframe.columns[2:4],axis=1).head(10)"
      ],
      "metadata": {
        "id": "9z5mnNFDo4OF"
      },
      "execution_count": null,
      "outputs": []
    },
    {
      "cell_type": "code",
      "source": [
        "import pandas as pd\n",
        "url = 'data.csv'\n",
        "dataframe = pd.read_csv(url)\n",
        "dataframe.head(21)\n",
        "\n",
        "dataframe[dataframe['Khoa']!='Dien'].head(10)\n",
        "dataframe[dataframe['Score']!=7].head(10)\n",
        "\n",
        "dataframe[dataframe.index != 4].head(10)"
      ],
      "metadata": {
        "id": "WuDkWN-gpt0f"
      },
      "execution_count": null,
      "outputs": []
    },
    {
      "cell_type": "code",
      "source": [
        "import pandas as pd\n",
        "url = 'data.csv'\n",
        "dataframe = pd.read_csv(url)\n",
        "dataframe.head(21)\n",
        "\n",
        "dataframe.drop_duplicates().head(10)"
      ],
      "metadata": {
        "id": "Tpd5LuReqa3U"
      },
      "execution_count": null,
      "outputs": []
    },
    {
      "cell_type": "code",
      "source": [
        "import pandas as pd\n",
        "url = 'data.csv'\n",
        "dataframe = pd.read_csv(url)\n",
        "dataframe.head(21)\n",
        "\n",
        "dataframe.groupby('Khoa').count()"
      ],
      "metadata": {
        "id": "jEMiJ2IzrIZr"
      },
      "execution_count": null,
      "outputs": []
    },
    {
      "cell_type": "code",
      "source": [
        "import pandas as pd\n",
        "url = 'data.csv'\n",
        "dataframe = pd.read_csv(url)\n",
        "dataframe.head(21)\n",
        "\n",
        "dataframe.groupby(['Khoa','Score']).count()"
      ],
      "metadata": {
        "id": "_I0qc5X0rnkX"
      },
      "execution_count": null,
      "outputs": []
    },
    {
      "cell_type": "code",
      "source": [
        "import pandas as pd\n",
        "url = 'data.csv'\n",
        "dataframe = pd.read_csv(url)\n",
        "dataframe.head(21)\n",
        "\n",
        "dataframe.groupby('Khoa')['Score'].count()"
      ],
      "metadata": {
        "id": "9lJeWwSwrYm2"
      },
      "execution_count": null,
      "outputs": []
    },
    {
      "cell_type": "code",
      "source": [
        "import pandas as pd\n",
        "import numpy as np\n",
        "\n",
        "time_index = pd.date_range('01/01/2023',periods = 100000,freq ='30s')\n",
        "dataframe = pd.DataFrame(index = time_index)\n",
        "dataframe['Acess_Amount'] = np.random.randint(1,10,100000)\n",
        "dataframe.resample('W').sum()"
      ],
      "metadata": {
        "id": "avuiNnjFsZAy"
      },
      "execution_count": null,
      "outputs": []
    },
    {
      "cell_type": "code",
      "source": [
        "import pandas as pd\n",
        "url = 'http://winterolympicsmedals.com/medals.csv'\n",
        "data = pd.read_csv(url)\n",
        "data\n",
        "\n",
        "data.groupby('NOC')['Medal'].count()"
      ],
      "metadata": {
        "id": "SCk5z4-g0RNB"
      },
      "execution_count": null,
      "outputs": []
    },
    {
      "cell_type": "code",
      "source": [
        "import pandas as pd\n",
        "url = 'http://winterolympicsmedals.com/medals.csv'\n",
        "data = pd.read_csv(url)\n",
        "data\n"
      ],
      "metadata": {
        "colab": {
          "base_uri": "https://localhost:8080/",
          "height": 424
        },
        "id": "83TJKQgG1AIc",
        "outputId": "51cdf5a2-e868-4c17-cbe0-0c4fd688fbb2"
      },
      "execution_count": 100,
      "outputs": [
        {
          "output_type": "execute_result",
          "data": {
            "text/plain": [
              "      Year      City       Sport  ...            Event Event gender   Medal\n",
              "0     1924  Chamonix     Skating  ...       individual            M  Silver\n",
              "1     1924  Chamonix     Skating  ...       individual            W    Gold\n",
              "2     1924  Chamonix     Skating  ...            pairs            X    Gold\n",
              "3     1924  Chamonix   Bobsleigh  ...         four-man            M  Bronze\n",
              "4     1924  Chamonix  Ice Hockey  ...       ice hockey            M    Gold\n",
              "...    ...       ...         ...  ...              ...          ...     ...\n",
              "2306  2006     Turin      Skiing  ...        Half-pipe            M  Silver\n",
              "2307  2006     Turin      Skiing  ...        Half-pipe            W    Gold\n",
              "2308  2006     Turin      Skiing  ...        Half-pipe            W  Silver\n",
              "2309  2006     Turin      Skiing  ...  Snowboard Cross            M    Gold\n",
              "2310  2006     Turin      Skiing  ...  Snowboard Cross            W  Silver\n",
              "\n",
              "[2311 rows x 8 columns]"
            ],
            "text/html": [
              "\n",
              "  <div id=\"df-29be2f32-c927-48fe-8c84-4d25973fe61e\">\n",
              "    <div class=\"colab-df-container\">\n",
              "      <div>\n",
              "<style scoped>\n",
              "    .dataframe tbody tr th:only-of-type {\n",
              "        vertical-align: middle;\n",
              "    }\n",
              "\n",
              "    .dataframe tbody tr th {\n",
              "        vertical-align: top;\n",
              "    }\n",
              "\n",
              "    .dataframe thead th {\n",
              "        text-align: right;\n",
              "    }\n",
              "</style>\n",
              "<table border=\"1\" class=\"dataframe\">\n",
              "  <thead>\n",
              "    <tr style=\"text-align: right;\">\n",
              "      <th></th>\n",
              "      <th>Year</th>\n",
              "      <th>City</th>\n",
              "      <th>Sport</th>\n",
              "      <th>Discipline</th>\n",
              "      <th>NOC</th>\n",
              "      <th>Event</th>\n",
              "      <th>Event gender</th>\n",
              "      <th>Medal</th>\n",
              "    </tr>\n",
              "  </thead>\n",
              "  <tbody>\n",
              "    <tr>\n",
              "      <th>0</th>\n",
              "      <td>1924</td>\n",
              "      <td>Chamonix</td>\n",
              "      <td>Skating</td>\n",
              "      <td>Figure skating</td>\n",
              "      <td>AUT</td>\n",
              "      <td>individual</td>\n",
              "      <td>M</td>\n",
              "      <td>Silver</td>\n",
              "    </tr>\n",
              "    <tr>\n",
              "      <th>1</th>\n",
              "      <td>1924</td>\n",
              "      <td>Chamonix</td>\n",
              "      <td>Skating</td>\n",
              "      <td>Figure skating</td>\n",
              "      <td>AUT</td>\n",
              "      <td>individual</td>\n",
              "      <td>W</td>\n",
              "      <td>Gold</td>\n",
              "    </tr>\n",
              "    <tr>\n",
              "      <th>2</th>\n",
              "      <td>1924</td>\n",
              "      <td>Chamonix</td>\n",
              "      <td>Skating</td>\n",
              "      <td>Figure skating</td>\n",
              "      <td>AUT</td>\n",
              "      <td>pairs</td>\n",
              "      <td>X</td>\n",
              "      <td>Gold</td>\n",
              "    </tr>\n",
              "    <tr>\n",
              "      <th>3</th>\n",
              "      <td>1924</td>\n",
              "      <td>Chamonix</td>\n",
              "      <td>Bobsleigh</td>\n",
              "      <td>Bobsleigh</td>\n",
              "      <td>BEL</td>\n",
              "      <td>four-man</td>\n",
              "      <td>M</td>\n",
              "      <td>Bronze</td>\n",
              "    </tr>\n",
              "    <tr>\n",
              "      <th>4</th>\n",
              "      <td>1924</td>\n",
              "      <td>Chamonix</td>\n",
              "      <td>Ice Hockey</td>\n",
              "      <td>Ice Hockey</td>\n",
              "      <td>CAN</td>\n",
              "      <td>ice hockey</td>\n",
              "      <td>M</td>\n",
              "      <td>Gold</td>\n",
              "    </tr>\n",
              "    <tr>\n",
              "      <th>...</th>\n",
              "      <td>...</td>\n",
              "      <td>...</td>\n",
              "      <td>...</td>\n",
              "      <td>...</td>\n",
              "      <td>...</td>\n",
              "      <td>...</td>\n",
              "      <td>...</td>\n",
              "      <td>...</td>\n",
              "    </tr>\n",
              "    <tr>\n",
              "      <th>2306</th>\n",
              "      <td>2006</td>\n",
              "      <td>Turin</td>\n",
              "      <td>Skiing</td>\n",
              "      <td>Snowboard</td>\n",
              "      <td>USA</td>\n",
              "      <td>Half-pipe</td>\n",
              "      <td>M</td>\n",
              "      <td>Silver</td>\n",
              "    </tr>\n",
              "    <tr>\n",
              "      <th>2307</th>\n",
              "      <td>2006</td>\n",
              "      <td>Turin</td>\n",
              "      <td>Skiing</td>\n",
              "      <td>Snowboard</td>\n",
              "      <td>USA</td>\n",
              "      <td>Half-pipe</td>\n",
              "      <td>W</td>\n",
              "      <td>Gold</td>\n",
              "    </tr>\n",
              "    <tr>\n",
              "      <th>2308</th>\n",
              "      <td>2006</td>\n",
              "      <td>Turin</td>\n",
              "      <td>Skiing</td>\n",
              "      <td>Snowboard</td>\n",
              "      <td>USA</td>\n",
              "      <td>Half-pipe</td>\n",
              "      <td>W</td>\n",
              "      <td>Silver</td>\n",
              "    </tr>\n",
              "    <tr>\n",
              "      <th>2309</th>\n",
              "      <td>2006</td>\n",
              "      <td>Turin</td>\n",
              "      <td>Skiing</td>\n",
              "      <td>Snowboard</td>\n",
              "      <td>USA</td>\n",
              "      <td>Snowboard Cross</td>\n",
              "      <td>M</td>\n",
              "      <td>Gold</td>\n",
              "    </tr>\n",
              "    <tr>\n",
              "      <th>2310</th>\n",
              "      <td>2006</td>\n",
              "      <td>Turin</td>\n",
              "      <td>Skiing</td>\n",
              "      <td>Snowboard</td>\n",
              "      <td>USA</td>\n",
              "      <td>Snowboard Cross</td>\n",
              "      <td>W</td>\n",
              "      <td>Silver</td>\n",
              "    </tr>\n",
              "  </tbody>\n",
              "</table>\n",
              "<p>2311 rows × 8 columns</p>\n",
              "</div>\n",
              "      <button class=\"colab-df-convert\" onclick=\"convertToInteractive('df-29be2f32-c927-48fe-8c84-4d25973fe61e')\"\n",
              "              title=\"Convert this dataframe to an interactive table.\"\n",
              "              style=\"display:none;\">\n",
              "        \n",
              "  <svg xmlns=\"http://www.w3.org/2000/svg\" height=\"24px\"viewBox=\"0 0 24 24\"\n",
              "       width=\"24px\">\n",
              "    <path d=\"M0 0h24v24H0V0z\" fill=\"none\"/>\n",
              "    <path d=\"M18.56 5.44l.94 2.06.94-2.06 2.06-.94-2.06-.94-.94-2.06-.94 2.06-2.06.94zm-11 1L8.5 8.5l.94-2.06 2.06-.94-2.06-.94L8.5 2.5l-.94 2.06-2.06.94zm10 10l.94 2.06.94-2.06 2.06-.94-2.06-.94-.94-2.06-.94 2.06-2.06.94z\"/><path d=\"M17.41 7.96l-1.37-1.37c-.4-.4-.92-.59-1.43-.59-.52 0-1.04.2-1.43.59L10.3 9.45l-7.72 7.72c-.78.78-.78 2.05 0 2.83L4 21.41c.39.39.9.59 1.41.59.51 0 1.02-.2 1.41-.59l7.78-7.78 2.81-2.81c.8-.78.8-2.07 0-2.86zM5.41 20L4 18.59l7.72-7.72 1.47 1.35L5.41 20z\"/>\n",
              "  </svg>\n",
              "      </button>\n",
              "      \n",
              "  <style>\n",
              "    .colab-df-container {\n",
              "      display:flex;\n",
              "      flex-wrap:wrap;\n",
              "      gap: 12px;\n",
              "    }\n",
              "\n",
              "    .colab-df-convert {\n",
              "      background-color: #E8F0FE;\n",
              "      border: none;\n",
              "      border-radius: 50%;\n",
              "      cursor: pointer;\n",
              "      display: none;\n",
              "      fill: #1967D2;\n",
              "      height: 32px;\n",
              "      padding: 0 0 0 0;\n",
              "      width: 32px;\n",
              "    }\n",
              "\n",
              "    .colab-df-convert:hover {\n",
              "      background-color: #E2EBFA;\n",
              "      box-shadow: 0px 1px 2px rgba(60, 64, 67, 0.3), 0px 1px 3px 1px rgba(60, 64, 67, 0.15);\n",
              "      fill: #174EA6;\n",
              "    }\n",
              "\n",
              "    [theme=dark] .colab-df-convert {\n",
              "      background-color: #3B4455;\n",
              "      fill: #D2E3FC;\n",
              "    }\n",
              "\n",
              "    [theme=dark] .colab-df-convert:hover {\n",
              "      background-color: #434B5C;\n",
              "      box-shadow: 0px 1px 3px 1px rgba(0, 0, 0, 0.15);\n",
              "      filter: drop-shadow(0px 1px 2px rgba(0, 0, 0, 0.3));\n",
              "      fill: #FFFFFF;\n",
              "    }\n",
              "  </style>\n",
              "\n",
              "      <script>\n",
              "        const buttonEl =\n",
              "          document.querySelector('#df-29be2f32-c927-48fe-8c84-4d25973fe61e button.colab-df-convert');\n",
              "        buttonEl.style.display =\n",
              "          google.colab.kernel.accessAllowed ? 'block' : 'none';\n",
              "\n",
              "        async function convertToInteractive(key) {\n",
              "          const element = document.querySelector('#df-29be2f32-c927-48fe-8c84-4d25973fe61e');\n",
              "          const dataTable =\n",
              "            await google.colab.kernel.invokeFunction('convertToInteractive',\n",
              "                                                     [key], {});\n",
              "          if (!dataTable) return;\n",
              "\n",
              "          const docLinkHtml = 'Like what you see? Visit the ' +\n",
              "            '<a target=\"_blank\" href=https://colab.research.google.com/notebooks/data_table.ipynb>data table notebook</a>'\n",
              "            + ' to learn more about interactive tables.';\n",
              "          element.innerHTML = '';\n",
              "          dataTable['output_type'] = 'display_data';\n",
              "          await google.colab.output.renderOutput(dataTable, element);\n",
              "          const docLink = document.createElement('div');\n",
              "          docLink.innerHTML = docLinkHtml;\n",
              "          element.appendChild(docLink);\n",
              "        }\n",
              "      </script>\n",
              "    </div>\n",
              "  </div>\n",
              "  "
            ]
          },
          "metadata": {},
          "execution_count": 100
        }
      ]
    },
    {
      "cell_type": "code",
      "source": [
        "import pandas as pd\n",
        "url = 'http://winterolympicsmedals.com/medals.csv'\n",
        "data = pd.read_csv(url)\n",
        "data\n",
        "\n",
        "data[data['Medal'] == 'Gold'].value_counts()"
      ],
      "metadata": {
        "id": "3lPQZgKq14Sv"
      },
      "execution_count": null,
      "outputs": []
    },
    {
      "cell_type": "code",
      "source": [
        "import pandas as pd\n",
        "url = 'http://winterolympicsmedals.com/medals.csv'\n",
        "data = pd.read_csv(url)\n",
        "data\n",
        "\n",
        "data[data['Medal'] == 'Gold'].value_counts().mean()"
      ],
      "metadata": {
        "colab": {
          "base_uri": "https://localhost:8080/"
        },
        "id": "HocBdDS_5BUX",
        "outputId": "59a4b1f2-0494-4ecc-e7ae-55031c05d873"
      },
      "execution_count": 131,
      "outputs": [
        {
          "output_type": "execute_result",
          "data": {
            "text/plain": [
              "1.0025906735751295"
            ]
          },
          "metadata": {},
          "execution_count": 131
        }
      ]
    },
    {
      "cell_type": "code",
      "source": [],
      "metadata": {
        "id": "ZSYy9reF599T"
      },
      "execution_count": null,
      "outputs": []
    }
  ]
}